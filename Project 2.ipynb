{
 "cells": [
  {
   "cell_type": "code",
   "execution_count": null,
   "id": "05d49bc5",
   "metadata": {},
   "outputs": [
    {
     "name": "stdout",
     "output_type": "stream",
     "text": [
      "Input the lenght of the countdown in seconds10\n",
      "Enter the time in seconds: 600\n",
      "02:41\r"
     ]
    }
   ],
   "source": [
    "import time \n",
    "t=int(input(\"Input the lenght of the countdown in seconds\"))\n",
    "def countdown(t):\n",
    "    while t>0:\n",
    "        min,sec= divmod(t,60)\n",
    "        timer = '{:02d}:{:02d}'.format(min, sec)\n",
    "        print(timer, end=\"\\r\")\n",
    "        time.sleep(1)\n",
    "        t -= 1\n",
    "    print('Fire in the hole!!')\n",
    "  \n",
    "  \n",
    "t = input(\"Enter the time in seconds: \")\n",
    "\n",
    "countdown(int(t))"
   ]
  }
 ],
 "metadata": {
  "kernelspec": {
   "display_name": "Python 3",
   "language": "python",
   "name": "python3"
  },
  "language_info": {
   "codemirror_mode": {
    "name": "ipython",
    "version": 3
   },
   "file_extension": ".py",
   "mimetype": "text/x-python",
   "name": "python",
   "nbconvert_exporter": "python",
   "pygments_lexer": "ipython3",
   "version": "3.8.8"
  }
 },
 "nbformat": 4,
 "nbformat_minor": 5
}
