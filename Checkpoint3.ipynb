{
 "cells": [
  {
   "cell_type": "code",
   "execution_count": 23,
   "id": "d8721d92",
   "metadata": {
    "scrolled": true
   },
   "outputs": [
    {
     "name": "stdout",
     "output_type": "stream",
     "text": [
      "35\n"
     ]
    }
   ],
   "source": [
    "#Question 1:\n",
    "def max(a,b,c):\n",
    "    \n",
    "    if a<b<c:\n",
    "        largest =c\n",
    "    elif c<a<b:\n",
    "        largest=b\n",
    "    elif b<c<a:\n",
    "        largest=a\n",
    "    return largest\n",
    "\n",
    "a=20\n",
    "b=35\n",
    "c=19\n",
    "print(max(a,b,c))\n",
    "\n"
   ]
  },
  {
   "cell_type": "code",
   "execution_count": 40,
   "id": "ed33447f",
   "metadata": {},
   "outputs": [
    {
     "name": "stdout",
     "output_type": "stream",
     "text": [
      "(50, 30)\n"
     ]
    }
   ],
   "source": [
    "#Question 2:\n",
    "\n",
    "def calculation(a,b):\n",
    "    return a+b,a-b\n",
    "a=40\n",
    "b=10\n",
    "print(calculation(a,b))\n"
   ]
  },
  {
   "cell_type": "code",
   "execution_count": 97,
   "id": "ac90eedb",
   "metadata": {
    "scrolled": true
   },
   "outputs": [
    {
     "name": "stdout",
     "output_type": "stream",
     "text": [
      "How many numbers: 4\n",
      "Enter number 3\n",
      "Enter number 6\n",
      "Enter number 5\n",
      "Enter number 8\n",
      "la somme des nombres paires est 14\n",
      "le produit des nombres impaires est 15\n",
      "None\n"
     ]
    }
   ],
   "source": [
    "#Question 3\n",
    "list = []\n",
    "x=int(input('How many numbers: '))\n",
    "for i in range(x):\n",
    "    numbers = int(input('Enter number '))\n",
    "    list.append(numbers)\n",
    "    \n",
    "def sum(list):\n",
    "    s=0\n",
    "    for i in list:\n",
    "        s=s+i\n",
    "    return (s)\n",
    "    \n",
    "def mult(mylist):\n",
    "    k=1\n",
    "    for x in mylist:\n",
    "        k=k*x\n",
    "    return k\n",
    "\n",
    "def even_odd(list ):\n",
    "    list1=[]\n",
    "    list2=[]\n",
    "    i=0\n",
    "    for x in list:\n",
    "        z=i%2\n",
    "        i+=1\n",
    "        if z==0:\n",
    "            list1.append(x)\n",
    "        else :\n",
    "            list2.append(x)        \n",
    "    print(\"la somme des nombres paires est\",sum(list2))\n",
    "    print(\"le produit des nombres impaires est\",mult(list1))\n",
    "print(even_odd(list ))\n"
   ]
  },
  {
   "cell_type": "code",
   "execution_count": 87,
   "id": "5486e670",
   "metadata": {},
   "outputs": [
    {
     "name": "stdout",
     "output_type": "stream",
     "text": [
      "green-red-yellow-black-white\n",
      "black-green-red-white-yellow\n"
     ]
    }
   ],
   "source": [
    "items=[i for i in input().split('-')]\n",
    "items.sort()\n",
    "print('-'.join(items))"
   ]
  }
 ],
 "metadata": {
  "kernelspec": {
   "display_name": "Python 3",
   "language": "python",
   "name": "python3"
  },
  "language_info": {
   "codemirror_mode": {
    "name": "ipython",
    "version": 3
   },
   "file_extension": ".py",
   "mimetype": "text/x-python",
   "name": "python",
   "nbconvert_exporter": "python",
   "pygments_lexer": "ipython3",
   "version": "3.8.8"
  }
 },
 "nbformat": 4,
 "nbformat_minor": 5
}
