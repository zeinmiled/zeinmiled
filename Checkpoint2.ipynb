{
 "cells": [
  {
   "cell_type": "code",
   "execution_count": 9,
   "id": "b6b3adb5",
   "metadata": {},
   "outputs": [
    {
     "name": "stdout",
     "output_type": "stream",
     "text": [
      "36\n"
     ]
    }
   ],
   "source": [
    "#Question 1:\n",
    "list = [2,3,6]\n",
    "product=1\n",
    "for item in list:\n",
    "    product= product*item\n",
    "print(product)"
   ]
  },
  {
   "cell_type": "code",
   "execution_count": 13,
   "id": "e9a930f3",
   "metadata": {},
   "outputs": [
    {
     "name": "stdout",
     "output_type": "stream",
     "text": [
      "Sorted:\n",
      "[(2, 1), (1, 2), (2, 3), (4, 4), (2, 5)]\n"
     ]
    }
   ],
   "source": [
    "#question2:\n",
    "def last(n):\n",
    "    return n[-1]\n",
    "def sort(tuples):\n",
    "    return sorted(tuples, key=last)\n",
    "x=[(2, 5), (1, 2), (4, 4), (2, 3), (2, 1)]\n",
    "print(\"Sorted:\")\n",
    "print(sort(x))"
   ]
  },
  {
   "cell_type": "code",
   "execution_count": 20,
   "id": "08f19743",
   "metadata": {},
   "outputs": [
    {
     "name": "stdout",
     "output_type": "stream",
     "text": [
      "{'a': 400, 'b': 400, 'c': 300, 'd': 400}\n"
     ]
    }
   ],
   "source": [
    "#question3:\n",
    "\n",
    "d1 = {'a': 100, 'b': 200, 'c': 300}\n",
    "d2 = {'a': 300, 'b': 200, 'd': 400}\n",
    "\n",
    "for i in d2 :\n",
    "    if i in d1 :\n",
    "        d1[ i ] = d1[ i ] +d2[ i ]\n",
    "    else :\n",
    "        d1[ i ] = d2[ i ]\n",
    "print(d1)\n"
   ]
  },
  {
   "cell_type": "code",
   "execution_count": 18,
   "id": "5e945532",
   "metadata": {},
   "outputs": [
    {
     "name": "stdout",
     "output_type": "stream",
     "text": [
      "Input the value of x 5\n",
      "{1: 1, 2: 4, 3: 9, 4: 16, 5: 25}\n"
     ]
    }
   ],
   "source": [
    "#Question4:\n",
    "x=int(input(\"Input the value of x \"))\n",
    "xdict= {}\n",
    "for i in range (1,x+1):\n",
    "    xdict[i]=i*i\n",
    "print(xdict)\n"
   ]
  },
  {
   "cell_type": "code",
   "execution_count": 24,
   "id": "5b375c77",
   "metadata": {},
   "outputs": [
    {
     "name": "stdout",
     "output_type": "stream",
     "text": [
      "['item3, 24.5', ('item2', '15.10'), ('item', '12.20')]\n"
     ]
    }
   ],
   "source": [
    "#Question5:\n",
    "price = [('item' , '12.20'), ('item2', '15.10'), ('item3, 24.5') ]\n",
    "def picksecond(elem):\n",
    "    return elem[1]\n",
    "price.sort(key=picksecond,reverse=True)\n",
    "print(price)"
   ]
  }
 ],
 "metadata": {
  "kernelspec": {
   "display_name": "Python 3",
   "language": "python",
   "name": "python3"
  },
  "language_info": {
   "codemirror_mode": {
    "name": "ipython",
    "version": 3
   },
   "file_extension": ".py",
   "mimetype": "text/x-python",
   "name": "python",
   "nbconvert_exporter": "python",
   "pygments_lexer": "ipython3",
   "version": "3.8.8"
  }
 },
 "nbformat": 4,
 "nbformat_minor": 5
}
