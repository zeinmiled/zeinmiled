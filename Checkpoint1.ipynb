{
 "cells": [
  {
   "cell_type": "code",
   "execution_count": 6,
   "id": "d9f50396",
   "metadata": {},
   "outputs": [
    {
     "name": "stdout",
     "output_type": "stream",
     "text": [
      "Input your First Name : zein\n",
      "Input your Last Name : miled\n",
      "miled  zein\n"
     ]
    }
   ],
   "source": [
    "#QUESTION 1:\n",
    "firstname = input(\"Input your First Name : \")\n",
    "lastname = input(\"Input your Last Name : \")\n",
    "print (lastname +\"  \"+ firstname)"
   ]
  },
  {
   "cell_type": "code",
   "execution_count": 7,
   "id": "6b906a08",
   "metadata": {},
   "outputs": [
    {
     "name": "stdout",
     "output_type": "stream",
     "text": [
      "Input an integer5\n",
      "615\n"
     ]
    }
   ],
   "source": [
    "#Question 2:\n",
    "x= int(input(\"Input an integer\"))\n",
    "y= x+ x*10+x +x*100+x*10+x\n",
    "print(y)"
   ]
  },
  {
   "cell_type": "code",
   "execution_count": 18,
   "id": "75e6094a",
   "metadata": {},
   "outputs": [
    {
     "name": "stdout",
     "output_type": "stream",
     "text": [
      "Input a random number4\n",
      "The number is an even number\n"
     ]
    }
   ],
   "source": [
    "#Question 3:\n",
    "y= int(input(\"Input a random number\"))\n",
    "if y % 2 == 0:\n",
    "    print(\"The number is an even number\")\n",
    "else:\n",
    "    print(\"The number is an odd number\")\n",
    "    "
   ]
  },
  {
   "cell_type": "code",
   "execution_count": 10,
   "id": "45feb842",
   "metadata": {},
   "outputs": [
    {
     "name": "stdout",
     "output_type": "stream",
     "text": [
      "2002 2009 2016 2023 2037 2044 2051 2058 2072 2079 2086 2093 2107 2114 2121 2128 2142 2149 2156 2163 2177 2184 2191 2198 2212 2219 2226 2233 2247 2254 2261 2268 2282 2289 2296 2303 2317 2324 2331 2338 2352 2359 2366 2373 2387 2394 2401 2408 2422 2429 2436 2443 2457 2464 2471 2478 2492 2499 2506 2513 2527 2534 2541 2548 2562 2569 2576 2583 2597 2604 2611 2618 2632 2639 2646 2653 2667 2674 2681 2688 2702 2709 2716 2723 2737 2744 2751 2758 2772 2779 2786 2793 2807 2814 2821 2828 2842 2849 2856 2863 2877 2884 2891 2898 2912 2919 2926 2933 2947 2954 2961 2968 2982 2989 2996 3003 3017 3024 3031 3038 3052 3059 3066 3073 3087 3094 3101 3108 3122 3129 3136 3143 3157 3164 3171 3178 3192 3199 "
     ]
    }
   ],
   "source": [
    "#Question 4:\n",
    "for x in range (2000,3201):\n",
    "    begin=\" \"\n",
    "    if x % 7 ==0 and x % 5 !=0 :\n",
    "        print (x, end=\" \")"
   ]
  },
  {
   "cell_type": "code",
   "execution_count": 17,
   "id": "a37c73b6",
   "metadata": {
    "scrolled": true
   },
   "outputs": [
    {
     "name": "stdout",
     "output_type": "stream",
     "text": [
      "Input the value of x 8\n",
      "40320\n"
     ]
    }
   ],
   "source": [
    "#Question 5:\n",
    "def fact(x):\n",
    "    if x ==0:\n",
    "        return 1\n",
    "    return x * fact(x-1)\n",
    "x=int(input(\"Input the value of x \"))\n",
    "print(fact(x))"
   ]
  },
  {
   "cell_type": "markdown",
   "id": "2cc6fad5",
   "metadata": {},
   "source": [
    "\n"
   ]
  },
  {
   "cell_type": "code",
   "execution_count": 1,
   "id": "2736795b",
   "metadata": {},
   "outputs": [
    {
     "name": "stdout",
     "output_type": "stream",
     "text": [
      "Input the value of x 150\n",
      "135.0\n"
     ]
    }
   ],
   "source": [
    "#Question7:\n",
    "x=int(input(\"Input the value of x \"))\n",
    "if x > 500:\n",
    "    x= x/2\n",
    "elif 500 > x >= 200:\n",
    "    x= x*2/3\n",
    "elif x < 200:\n",
    "    x= x-x*10/100\n",
    "print(x)"
   ]
  },
  {
   "cell_type": "code",
   "execution_count": 5,
   "id": "5a7b7dd8",
   "metadata": {},
   "outputs": [
    {
     "name": "stdout",
     "output_type": "stream",
     "text": [
      "Input a word hello team\n",
      "hlota\n"
     ]
    }
   ],
   "source": [
    "#question6:\n",
    "word=input(\"Input a word \")\n",
    "n=len(word)\n",
    "nouveau=\"\"\n",
    "i=0\n",
    "while i<len(word)-1:\n",
    "    if i%2==0:\n",
    "        nouveau=nouveau+word[i]\n",
    "    i=i+1\n",
    "print(nouveau)"
   ]
  }
 ],
 "metadata": {
  "kernelspec": {
   "display_name": "Python 3",
   "language": "python",
   "name": "python3"
  },
  "language_info": {
   "codemirror_mode": {
    "name": "ipython",
    "version": 3
   },
   "file_extension": ".py",
   "mimetype": "text/x-python",
   "name": "python",
   "nbconvert_exporter": "python",
   "pygments_lexer": "ipython3",
   "version": "3.8.8"
  }
 },
 "nbformat": 4,
 "nbformat_minor": 5
}
