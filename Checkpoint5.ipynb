{
 "cells": [
  {
   "cell_type": "code",
   "execution_count": 5,
   "id": "c2a02709",
   "metadata": {},
   "outputs": [
    {
     "name": "stdout",
     "output_type": "stream",
     "text": [
      "La liste convertit est [1 2 3 6 8 9]\n"
     ]
    }
   ],
   "source": [
    "#Question 1:\n",
    "\n",
    "import numpy as np\n",
    "new_array=np.array([1,2,3,6,8,9])\n",
    "num_list= new_array.tolist ()\n",
    "print(\"The converted list is \",new_array)"
   ]
  },
  {
   "cell_type": "code",
   "execution_count": 9,
   "id": "99ebc9a8",
   "metadata": {},
   "outputs": [
    {
     "name": "stdout",
     "output_type": "stream",
     "text": [
      "The sum of the diagonal elements are 12\n"
     ]
    }
   ],
   "source": [
    "#Question 2:\n",
    "import numpy as np\n",
    "x = np.arange(9).reshape(3,3)\n",
    "result = np.trace(x)\n",
    "print(\"The sum of the diagonal elements are\",result)"
   ]
  },
  {
   "cell_type": "code",
   "execution_count": 11,
   "id": "18bbad59",
   "metadata": {},
   "outputs": [
    {
     "name": "stdout",
     "output_type": "stream",
     "text": [
      "Values higher than y are  [3 5]\n"
     ]
    }
   ],
   "source": [
    "#Question 3:\n",
    "import numpy as np\n",
    "y= np.array ([[1,2],[3,5]])\n",
    "print(\"Values higher than y are \",y[y>=3] )"
   ]
  },
  {
   "cell_type": "code",
   "execution_count": 12,
   "id": "449fb021",
   "metadata": {},
   "outputs": [
    {
     "name": "stdout",
     "output_type": "stream",
     "text": [
      "[[ 6.  8.]\n",
      " [10. 12.]]\n"
     ]
    }
   ],
   "source": [
    "#Question 4:\n",
    "import numpy as np\n",
    "x=np.array([[1,2],[3,4]], dtype=np.float64)\n",
    "y=np.array([[5,6],[7,8]], dtype=np.float64)\n",
    "A=np.add(x,y)\n",
    "print (A)"
   ]
  },
  {
   "cell_type": "code",
   "execution_count": 15,
   "id": "0a3b4841",
   "metadata": {},
   "outputs": [
    {
     "name": "stdout",
     "output_type": "stream",
     "text": [
      "[[ 0.07583864  0.41765368 -0.19955119 -0.29394113]\n",
      " [-0.10472062 -0.0524027  -0.21368826  0.37081158]\n",
      " [-0.06656563  0.52160166 -0.09668687 -0.35834916]]\n"
     ]
    }
   ],
   "source": [
    "#Question5:\n",
    "import numpy as np\n",
    "a= np.random.rand(3,4)\n",
    "b= a-a.mean(axis=1, keepdims=True)\n",
    "print(b)"
   ]
  }
 ],
 "metadata": {
  "kernelspec": {
   "display_name": "Python 3",
   "language": "python",
   "name": "python3"
  },
  "language_info": {
   "codemirror_mode": {
    "name": "ipython",
    "version": 3
   },
   "file_extension": ".py",
   "mimetype": "text/x-python",
   "name": "python",
   "nbconvert_exporter": "python",
   "pygments_lexer": "ipython3",
   "version": "3.8.8"
  }
 },
 "nbformat": 4,
 "nbformat_minor": 5
}
