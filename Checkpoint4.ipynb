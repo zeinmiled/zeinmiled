{
 "cells": [
  {
   "cell_type": "code",
   "execution_count": 5,
   "id": "6079dbba",
   "metadata": {},
   "outputs": [
    {
     "name": "stdout",
     "output_type": "stream",
     "text": [
      "(1, 2, 3)\n"
     ]
    }
   ],
   "source": [
    "#1\n",
    "class Point3D(object):\n",
    "    def __init__(self,x,y,z):\n",
    "        print(tuple([x,y,z]))\n",
    "\n",
    "my_point=Point3D(1,2,3)\n"
   ]
  },
  {
   "cell_type": "code",
   "execution_count": 6,
   "id": "78126175",
   "metadata": {
    "scrolled": false
   },
   "outputs": [
    {
     "name": "stdout",
     "output_type": "stream",
     "text": [
      "12 14\n"
     ]
    }
   ],
   "source": [
    "#2\n",
    "class Rectangle():\n",
    "    def __init__(self, l, w):\n",
    "        self.length = l\n",
    "        self.width  = w\n",
    "\n",
    "    def area(self):\n",
    "        return self.length*self.width\n",
    "    def perimiter(self):\n",
    "        return (self.length+self.width)*2\n",
    "\n",
    "newRectangle = Rectangle(3, 4)\n",
    "print(newRectangle.area(),newRectangle.perimiter())"
   ]
  },
  {
   "cell_type": "code",
   "execution_count": 8,
   "id": "e6c2f05d",
   "metadata": {
    "scrolled": true
   },
   "outputs": [
    {
     "name": "stdout",
     "output_type": "stream",
     "text": [
      "12.566370614359172\n",
      "12.566370614359172\n",
      "this point does not belong to the circle\n"
     ]
    }
   ],
   "source": [
    "#3\n",
    "import math\n",
    "class Circle():\n",
    "    def __init__(self,Xo,Yo,r):\n",
    "        self.Xo=Xo\n",
    "        self.Yo=Yo\n",
    "        self.radius = r\n",
    "        \n",
    "    def area(self):\n",
    "        return self.radius**2*math.pi\n",
    "    \n",
    "    def perimeter(self):\n",
    "        return 2*self.radius*math.pi\n",
    "    \n",
    "    def isInside(self,x,y):\n",
    "        if (x-self.Xo)**2 + (y-self.Yo)**2 == self.radius**2:\n",
    "            return(\"this point belongs to the circle\")\n",
    "        else:\n",
    "            return(\"this point does not belong to the circle\")\n",
    "        \n",
    "NewCircle = Circle(0,0,2)\n",
    "print(NewCircle.area())\n",
    "print(NewCircle.perimeter())\n",
    "print(NewCircle.isInside(0,10))\n"
   ]
  },
  {
   "cell_type": "code",
   "execution_count": 10,
   "id": "9eb17edf",
   "metadata": {},
   "outputs": [
    {
     "name": "stdout",
     "output_type": "stream",
     "text": [
      "Hello!!! Welcome to the Deposit & Withdrawal Machine\n",
      "Enter amount to be Deposited: 65\n",
      "\n",
      " Amount Deposited: 65.0\n",
      "Enter amount to be Withdrawn: 20\n",
      "\n",
      " You Withdrew: 20.0\n",
      "\n",
      " Net Available Balance= 45.0\n"
     ]
    }
   ],
   "source": [
    "#4\n",
    "class Bank_Account():\n",
    "    def __init__(self):\n",
    "        self.balance=0\n",
    "        print(Welcome to the Deposit & Withdrawal Machine\")\n",
    "  \n",
    "    def deposit(self):\n",
    "        amount=float(input(\"Enter amount to be Deposited: \"))\n",
    "        self.balance += amount\n",
    "        print(\"\\n Amount Deposited:\",amount)\n",
    "  \n",
    "    def withdraw(self):\n",
    "        amount = float(input(\"Enter amount to be Withdrawn: \"))\n",
    "        if self.balance>=amount:\n",
    "            self.balance-=amount\n",
    "            print(\"\\n You Withdrew:\", amount)\n",
    "        else:\n",
    "            print(\"\\n Insufficient balance  \")\n",
    "  \n",
    "    def display(self):\n",
    "        print(\"\\n Net Available Balance=\",self.balance)\n",
    "a=Bank_Account()\n",
    "a.deposit()\n",
    "a.withdraw()\n",
    "a.display()"
   ]
  }
 ],
 "metadata": {
  "kernelspec": {
   "display_name": "Python 3",
   "language": "python",
   "name": "python3"
  },
  "language_info": {
   "codemirror_mode": {
    "name": "ipython",
    "version": 3
   },
   "file_extension": ".py",
   "mimetype": "text/x-python",
   "name": "python",
   "nbconvert_exporter": "python",
   "pygments_lexer": "ipython3",
   "version": "3.8.8"
  }
 },
 "nbformat": 4,
 "nbformat_minor": 5
}
